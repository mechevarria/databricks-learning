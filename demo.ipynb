{
 "cells": [
  {
   "cell_type": "code",
   "execution_count": null,
   "metadata": {},
   "outputs": [],
   "source": [
    "from databricks.connect import DatabricksSession\n",
    "\n",
    "spark = DatabricksSession.builder.getOrCreate()\n",
    "\n",
    "catalog=spark.conf.get('my.catalog')\n",
    "schema=spark.conf.get('my.schema')\n",
    "table=spark.conf.get('my.table')\n",
    "\n",
    "table_name=f'{catalog}.{schema}.{table}'\n",
    "\n",
    "df = spark.table(table_name) \n",
    "df_pandas = df.toPandas()\n",
    "row_count = df_pandas.shape[0]\n",
    "print(f'The number of rows in {catalog}.{schema}.{table} are {row_count}')"
   ]
  }
 ],
 "metadata": {
  "kernelspec": {
   "display_name": ".venv",
   "language": "python",
   "name": "python3"
  },
  "language_info": {
   "codemirror_mode": {
    "name": "ipython",
    "version": 3
   },
   "file_extension": ".py",
   "mimetype": "text/x-python",
   "name": "python",
   "nbconvert_exporter": "python",
   "pygments_lexer": "ipython3",
   "version": "3.11.9"
  }
 },
 "nbformat": 4,
 "nbformat_minor": 2
}
